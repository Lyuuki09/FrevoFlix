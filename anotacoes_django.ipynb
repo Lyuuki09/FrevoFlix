{
 "cells": [
  {
   "cell_type": "markdown",
   "id": "c8d130f8",
   "metadata": {},
   "source": [
    "app em django -> funcionalidades que você gostaria que seu site tivesse, semelhante as classes de python"
   ]
  },
  {
   "cell_type": "markdown",
   "id": "3bca7208",
   "metadata": {},
   "source": [
    "models.py -> tratase do arquivo onde vai utilizar toda a parte de banco de dados"
   ]
  }
 ],
 "metadata": {
  "language_info": {
   "name": "python"
  }
 },
 "nbformat": 4,
 "nbformat_minor": 5
}
